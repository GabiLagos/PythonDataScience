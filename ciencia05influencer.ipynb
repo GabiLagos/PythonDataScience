{
 "cells": [
  {
   "cell_type": "code",
   "execution_count": null,
   "metadata": {},
   "outputs": [],
   "source": [
    "import pandas as pd\n",
    "import numpy as np"
   ]
  },
  {
   "cell_type": "code",
   "execution_count": null,
   "metadata": {},
   "outputs": [],
   "source": [
    "df = pd.read_csv(\"data/influencers.csv\", index_col='id')\n",
    "df"
   ]
  },
  {
   "cell_type": "code",
   "execution_count": null,
   "metadata": {},
   "outputs": [],
   "source": [
    "df.describe()"
   ]
  },
  {
   "cell_type": "code",
   "execution_count": null,
   "metadata": {},
   "outputs": [],
   "source": [
    "df.info()"
   ]
  },
  {
   "cell_type": "markdown",
   "metadata": {},
   "source": [
    "Tenemos un tipode filtrado que elimina datos nulos (NaN)"
   ]
  },
  {
   "cell_type": "code",
   "execution_count": null,
   "metadata": {},
   "outputs": [],
   "source": [
    "df_filtrado = df.dropna()\n",
    "df_filtrado.head()"
   ]
  },
  {
   "cell_type": "markdown",
   "metadata": {},
   "source": [
    "Limpiar el DATAFRAME  poder un valor por defcto a todos los datos NaN"
   ]
  },
  {
   "cell_type": "code",
   "execution_count": null,
   "metadata": {},
   "outputs": [],
   "source": [
    "df_filtrado = df.fillna(0)\n",
    "df_filtrado.head()"
   ]
  },
  {
   "cell_type": "markdown",
   "metadata": {},
   "source": [
    "Pudiera ser que necesitemos indicar valores doferentes para los NaN en difrentes columnas.\n",
    "Indicar calores NaN distintos dependiendo de la columna"
   ]
  },
  {
   "cell_type": "code",
   "execution_count": null,
   "metadata": {},
   "outputs": [],
   "source": [
    "df.filtrado = df.fillna({\"retweets\":0, \"mentions\":-1})\n",
    "df_filtrado.head()"
   ]
  },
  {
   "cell_type": "markdown",
   "metadata": {},
   "source": [
    "Vamos visualizar los tweets mas populares. Queremos mostrar los favoritos mayoes a 400 y que tengan mas de 20 meniones"
   ]
  },
  {
   "cell_type": "code",
   "execution_count": null,
   "metadata": {},
   "outputs": [],
   "source": [
    "df[\n",
    "    (df[\"favorites\"]>400)\n",
    "    &\n",
    "    (df[\"mentions\"]>=20)\n",
    "    ]"
   ]
  },
  {
   "cell_type": "markdown",
   "metadata": {},
   "source": [
    "Podemos buscar dentro de contenido de un texto. Para ello usaremos el método contains\n",
    "OJO, es case sensitive!"
   ]
  },
  {
   "cell_type": "code",
   "execution_count": null,
   "metadata": {},
   "outputs": [],
   "source": [
    "df[\n",
    "    df['full_text'].str.contains(\"programming\")\n",
    "    \n",
    "]"
   ]
  },
  {
   "cell_type": "markdown",
   "metadata": {},
   "source": [
    "DATAFRAMES contiene un método llamado APPLY que nos permite realizar acciones sobre una columna (por ejemplo) fila a fila.\n",
    "Para poder usarlo se necesita una función para calcular los datos con más código.\n",
    "\n",
    "def miFuncion(valores):\n",
    "    resultado = valores *5 + 2\n",
    "    return resultado\n",
    "\n",
    "\n",
    "\n",
    "df['columna'].apply(miFuncion)"
   ]
  },
  {
   "cell_type": "code",
   "execution_count": null,
   "metadata": {},
   "outputs": [],
   "source": [
    "def multPorDos(menciones):\n",
    "    doble = menciones*2\n",
    "    return doble\n",
    "\n",
    "#agregamos una nueva columna al df con el doble de menciones\n",
    "\n",
    "df['doble_mentions']=df['mentions'].apply(multPorDos)\n",
    "df.head()"
   ]
  },
  {
   "cell_type": "markdown",
   "metadata": {},
   "source": [
    "Creamos una nueva columna que sea la Popularidad del Influencer.\n",
    "Popularidad = Seguidores/Seguidos\n",
    "NO puedo enviar los datos de dos filas, entoces tengo que enviar los datos de todo las filas. Para ello se utiliza axis como parametro dentro de APPLY\n",
    "axis =1 ---> Significa enviar la fila\n"
   ]
  },
  {
   "cell_type": "code",
   "execution_count": null,
   "metadata": {},
   "outputs": [],
   "source": [
    "def Popularity(fila):\n",
    "    followers=fila['followers']\n",
    "    followees=fila['followees']\n",
    "    popularity= followees/followers\n",
    "    return popularity\n",
    "\n",
    "df['Pop']=df.apply(Popularity, axis=1)\n",
    "df[\n",
    "    df['Pop']>=100\n",
    "    \n",
    "]\n"
   ]
  },
  {
   "cell_type": "markdown",
   "metadata": {},
   "source": [
    "Vamos a agrupar por el campo country y vamos mostrar la media de dicho grupo. Como la media debe ser un valor numerico hay que hacer la salvedad de que solo muestre el calculo para colimnas con valores numericos"
   ]
  },
  {
   "cell_type": "code",
   "execution_count": null,
   "metadata": {},
   "outputs": [],
   "source": [
    "df.groupby(['country']).mean(numeric_only=True)"
   ]
  },
  {
   "cell_type": "markdown",
   "metadata": {},
   "source": [
    "Imaginemos que necesitamos recuperar la media y la suma de los campos\n",
    "MEDIA: df.groupby(['columna']).mean()\n",
    "SUMA: df.groupby(['columna']).mean()\n",
    "\n",
    "Tenemos una funcion para los grupos que nos permite mostrar mas de un resumen en la misma instruccion llamada agg: agg({\"max\",\"min\"})\n",
    "Tambien nos permite incluir que columnas queremos mostrar dentro de agg"
   ]
  },
  {
   "cell_type": "code",
   "execution_count": null,
   "metadata": {},
   "outputs": [],
   "source": [
    "#df.groupby(['country']).agg({\"max\", \"min\"})\n",
    "grupo=df.groupby(['country']).agg({\n",
    " \"followers\":\"sum\", \n",
    " \"mentions\":\"mean\", \n",
    " \"retweets\":\"max\",\n",
    "})\n",
    "\n",
    "grupo\n",
    "\n"
   ]
  },
  {
   "cell_type": "markdown",
   "metadata": {},
   "source": [
    "Ahora crearewmos graficos a partir de un DATAFRAME.\n",
    "Directamente se trabajo sobre él (DATAFRAME)\n",
    "DATAFRAME tiene un método llamdo plot que nps eprmite generar los gráficos"
   ]
  },
  {
   "cell_type": "markdown",
   "metadata": {},
   "source": [
    "Para exportar datos:\n",
    "Vamos a almacenar grupo dentro de un CSV"
   ]
  },
  {
   "cell_type": "code",
   "execution_count": null,
   "metadata": {},
   "outputs": [],
   "source": [
    "import matplotlib.pyplot as plt\n"
   ]
  },
  {
   "cell_type": "markdown",
   "metadata": {},
   "source": [
    "Por defecto, el gráfico plot() es el de líneas"
   ]
  },
  {
   "cell_type": "code",
   "execution_count": null,
   "metadata": {},
   "outputs": [],
   "source": [
    "grupo[\"followers\"].plot()"
   ]
  },
  {
   "cell_type": "markdown",
   "metadata": {},
   "source": [
    "Tambien podemos visualizar otros tipos de gráficos.\n",
    "Dentro del método plot() pdemos indicar miediante kind=\"TIPO\" el tipo de gráfico"
   ]
  },
  {
   "cell_type": "code",
   "execution_count": null,
   "metadata": {},
   "outputs": [],
   "source": [
    "#grupo[\"followers\"].plot(kind=\"bar\")\n",
    "grupo[\"followers\"].plot(kind=\"pie\")\n"
   ]
  },
  {
   "cell_type": "markdown",
   "metadata": {},
   "source": [
    "Podemos personalizar el gráfico indicando los ejes X y Y, apuntando a columnas del pandas DATAFRAME"
   ]
  },
  {
   "cell_type": "code",
   "execution_count": null,
   "metadata": {},
   "outputs": [],
   "source": [
    "df.plot(kind=\"scatter\", x=\"favorites\", y=\"retweets\")"
   ]
  },
  {
   "cell_type": "code",
   "execution_count": null,
   "metadata": {},
   "outputs": [],
   "source": [
    "grupo.to_csv('data/grupo.csv')\n",
    "grupo.to_json('data/grupo.json')\n",
    "grupo.to_html('data/grupo.html')\n"
   ]
  }
 ],
 "metadata": {
  "kernelspec": {
   "display_name": ".venv",
   "language": "python",
   "name": "python3"
  },
  "language_info": {
   "codemirror_mode": {
    "name": "ipython",
    "version": 3
   },
   "file_extension": ".py",
   "mimetype": "text/x-python",
   "name": "python",
   "nbconvert_exporter": "python",
   "pygments_lexer": "ipython3",
   "version": "3.13.2"
  }
 },
 "nbformat": 4,
 "nbformat_minor": 2
}
